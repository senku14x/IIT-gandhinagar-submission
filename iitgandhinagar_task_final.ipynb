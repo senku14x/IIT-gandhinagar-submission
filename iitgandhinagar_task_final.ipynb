{
  "cells": [
    {
      "cell_type": "markdown",
      "metadata": {
        "id": "jBakgWylxFi3"
      },
      "source": [
        "THIS CODE HAS BEEN COMPILED IN GOOGLE COLAB :D\n"
      ]
    },
    {
      "cell_type": "code",
      "execution_count": 9,
      "metadata": {
        "colab": {
          "base_uri": "https://localhost:8080/"
        },
        "id": "JrmnGyrpv_NX",
        "outputId": "807040e2-406c-41d2-904d-1fe1de7dde3f"
      },
      "outputs": [
        {
          "output_type": "stream",
          "name": "stdout",
          "text": [
            "Requirement already satisfied: tsfel in /usr/local/lib/python3.11/dist-packages (0.1.9)\n",
            "Requirement already satisfied: ipython>=7.4.0 in /usr/local/lib/python3.11/dist-packages (from tsfel) (7.34.0)\n",
            "Requirement already satisfied: numpy>=1.18.5 in /usr/local/lib/python3.11/dist-packages (from tsfel) (1.26.4)\n",
            "Requirement already satisfied: pandas>=1.5.3 in /usr/local/lib/python3.11/dist-packages (from tsfel) (2.2.2)\n",
            "Requirement already satisfied: PyWavelets>=1.4.1 in /usr/local/lib/python3.11/dist-packages (from tsfel) (1.8.0)\n",
            "Requirement already satisfied: requests>=2.31.0 in /usr/local/lib/python3.11/dist-packages (from tsfel) (2.32.3)\n",
            "Requirement already satisfied: scikit-learn>=0.21.3 in /usr/local/lib/python3.11/dist-packages (from tsfel) (1.6.1)\n",
            "Requirement already satisfied: scipy>=1.7.3 in /usr/local/lib/python3.11/dist-packages (from tsfel) (1.13.1)\n",
            "Requirement already satisfied: setuptools>=47.1.1 in /usr/local/lib/python3.11/dist-packages (from tsfel) (75.1.0)\n",
            "Requirement already satisfied: statsmodels>=0.12.0 in /usr/local/lib/python3.11/dist-packages (from tsfel) (0.14.4)\n",
            "Requirement already satisfied: jedi>=0.16 in /usr/local/lib/python3.11/dist-packages (from ipython>=7.4.0->tsfel) (0.19.2)\n",
            "Requirement already satisfied: decorator in /usr/local/lib/python3.11/dist-packages (from ipython>=7.4.0->tsfel) (4.4.2)\n",
            "Requirement already satisfied: pickleshare in /usr/local/lib/python3.11/dist-packages (from ipython>=7.4.0->tsfel) (0.7.5)\n",
            "Requirement already satisfied: traitlets>=4.2 in /usr/local/lib/python3.11/dist-packages (from ipython>=7.4.0->tsfel) (5.7.1)\n",
            "Requirement already satisfied: prompt-toolkit!=3.0.0,!=3.0.1,<3.1.0,>=2.0.0 in /usr/local/lib/python3.11/dist-packages (from ipython>=7.4.0->tsfel) (3.0.50)\n",
            "Requirement already satisfied: pygments in /usr/local/lib/python3.11/dist-packages (from ipython>=7.4.0->tsfel) (2.18.0)\n",
            "Requirement already satisfied: backcall in /usr/local/lib/python3.11/dist-packages (from ipython>=7.4.0->tsfel) (0.2.0)\n",
            "Requirement already satisfied: matplotlib-inline in /usr/local/lib/python3.11/dist-packages (from ipython>=7.4.0->tsfel) (0.1.7)\n",
            "Requirement already satisfied: pexpect>4.3 in /usr/local/lib/python3.11/dist-packages (from ipython>=7.4.0->tsfel) (4.9.0)\n",
            "Requirement already satisfied: python-dateutil>=2.8.2 in /usr/local/lib/python3.11/dist-packages (from pandas>=1.5.3->tsfel) (2.8.2)\n",
            "Requirement already satisfied: pytz>=2020.1 in /usr/local/lib/python3.11/dist-packages (from pandas>=1.5.3->tsfel) (2025.1)\n",
            "Requirement already satisfied: tzdata>=2022.7 in /usr/local/lib/python3.11/dist-packages (from pandas>=1.5.3->tsfel) (2025.1)\n",
            "Requirement already satisfied: charset-normalizer<4,>=2 in /usr/local/lib/python3.11/dist-packages (from requests>=2.31.0->tsfel) (3.4.1)\n",
            "Requirement already satisfied: idna<4,>=2.5 in /usr/local/lib/python3.11/dist-packages (from requests>=2.31.0->tsfel) (3.10)\n",
            "Requirement already satisfied: urllib3<3,>=1.21.1 in /usr/local/lib/python3.11/dist-packages (from requests>=2.31.0->tsfel) (2.3.0)\n",
            "Requirement already satisfied: certifi>=2017.4.17 in /usr/local/lib/python3.11/dist-packages (from requests>=2.31.0->tsfel) (2025.1.31)\n",
            "Requirement already satisfied: joblib>=1.2.0 in /usr/local/lib/python3.11/dist-packages (from scikit-learn>=0.21.3->tsfel) (1.4.2)\n",
            "Requirement already satisfied: threadpoolctl>=3.1.0 in /usr/local/lib/python3.11/dist-packages (from scikit-learn>=0.21.3->tsfel) (3.5.0)\n",
            "Requirement already satisfied: patsy>=0.5.6 in /usr/local/lib/python3.11/dist-packages (from statsmodels>=0.12.0->tsfel) (1.0.1)\n",
            "Requirement already satisfied: packaging>=21.3 in /usr/local/lib/python3.11/dist-packages (from statsmodels>=0.12.0->tsfel) (24.2)\n",
            "Requirement already satisfied: parso<0.9.0,>=0.8.4 in /usr/local/lib/python3.11/dist-packages (from jedi>=0.16->ipython>=7.4.0->tsfel) (0.8.4)\n",
            "Requirement already satisfied: ptyprocess>=0.5 in /usr/local/lib/python3.11/dist-packages (from pexpect>4.3->ipython>=7.4.0->tsfel) (0.7.0)\n",
            "Requirement already satisfied: wcwidth in /usr/local/lib/python3.11/dist-packages (from prompt-toolkit!=3.0.0,!=3.0.1,<3.1.0,>=2.0.0->ipython>=7.4.0->tsfel) (0.2.13)\n",
            "Requirement already satisfied: six>=1.5 in /usr/local/lib/python3.11/dist-packages (from python-dateutil>=2.8.2->pandas>=1.5.3->tsfel) (1.17.0)\n"
          ]
        }
      ],
      "source": [
        "#IMPORTING LIBRARIES\n",
        "\n",
        "import numpy as np\n",
        "import os\n",
        "import pandas as pad\n",
        "import matplotlib.pyplot as plt\n",
        "import seaborn as sb\n",
        "import tensorflow as tf\n",
        "from tensorflow.keras.models import Sequential\n",
        "from tensorflow.keras.layers import LSTM, Dense, Dropout\n",
        "from sklearn.preprocessing import StandardScaler\n",
        "from sklearn.metrics import accuracy_score, classification_report\n",
        "from sklearn.ensemble import RandomForestClassifier\n",
        "from sklearn.svm import SVC\n",
        "from sklearn.linear_model import LogisticRegression\n",
        "!pip install tsfel\n",
        "import tsfel\n",
        "import urllib.request\n",
        "import zipfile\n",
        "\n",
        "np.random.seed(42)\n",
        "tf.random.set_seed(42)"
      ]
    },
    {
      "cell_type": "code",
      "execution_count": 10,
      "metadata": {
        "id": "6uJol65iyiEY"
      },
      "outputs": [],
      "source": [
        "from google.colab import files"
      ]
    },
    {
      "cell_type": "code",
      "execution_count": 12,
      "metadata": {
        "id": "BD01wJ5r0sgs"
      },
      "outputs": [],
      "source": [
        "import io"
      ]
    },
    {
      "cell_type": "markdown",
      "metadata": {
        "id": "svQeeIJ907vr"
      },
      "source": [
        "UPLOADING THE DATASET FROM MY DEVICE"
      ]
    },
    {
      "cell_type": "code",
      "execution_count": 13,
      "metadata": {
        "colab": {
          "base_uri": "https://localhost:8080/",
          "height": 73
        },
        "id": "HjHbQx280w12",
        "outputId": "bd5d45fb-4be9-4f99-da1e-1424bbcffebe"
      },
      "outputs": [
        {
          "output_type": "display_data",
          "data": {
            "text/plain": [
              "<IPython.core.display.HTML object>"
            ],
            "text/html": [
              "\n",
              "     <input type=\"file\" id=\"files-657513f9-20bf-4eed-b58c-4f1599b2a229\" name=\"files[]\" multiple disabled\n",
              "        style=\"border:none\" />\n",
              "     <output id=\"result-657513f9-20bf-4eed-b58c-4f1599b2a229\">\n",
              "      Upload widget is only available when the cell has been executed in the\n",
              "      current browser session. Please rerun this cell to enable.\n",
              "      </output>\n",
              "      <script>// Copyright 2017 Google LLC\n",
              "//\n",
              "// Licensed under the Apache License, Version 2.0 (the \"License\");\n",
              "// you may not use this file except in compliance with the License.\n",
              "// You may obtain a copy of the License at\n",
              "//\n",
              "//      http://www.apache.org/licenses/LICENSE-2.0\n",
              "//\n",
              "// Unless required by applicable law or agreed to in writing, software\n",
              "// distributed under the License is distributed on an \"AS IS\" BASIS,\n",
              "// WITHOUT WARRANTIES OR CONDITIONS OF ANY KIND, either express or implied.\n",
              "// See the License for the specific language governing permissions and\n",
              "// limitations under the License.\n",
              "\n",
              "/**\n",
              " * @fileoverview Helpers for google.colab Python module.\n",
              " */\n",
              "(function(scope) {\n",
              "function span(text, styleAttributes = {}) {\n",
              "  const element = document.createElement('span');\n",
              "  element.textContent = text;\n",
              "  for (const key of Object.keys(styleAttributes)) {\n",
              "    element.style[key] = styleAttributes[key];\n",
              "  }\n",
              "  return element;\n",
              "}\n",
              "\n",
              "// Max number of bytes which will be uploaded at a time.\n",
              "const MAX_PAYLOAD_SIZE = 100 * 1024;\n",
              "\n",
              "function _uploadFiles(inputId, outputId) {\n",
              "  const steps = uploadFilesStep(inputId, outputId);\n",
              "  const outputElement = document.getElementById(outputId);\n",
              "  // Cache steps on the outputElement to make it available for the next call\n",
              "  // to uploadFilesContinue from Python.\n",
              "  outputElement.steps = steps;\n",
              "\n",
              "  return _uploadFilesContinue(outputId);\n",
              "}\n",
              "\n",
              "// This is roughly an async generator (not supported in the browser yet),\n",
              "// where there are multiple asynchronous steps and the Python side is going\n",
              "// to poll for completion of each step.\n",
              "// This uses a Promise to block the python side on completion of each step,\n",
              "// then passes the result of the previous step as the input to the next step.\n",
              "function _uploadFilesContinue(outputId) {\n",
              "  const outputElement = document.getElementById(outputId);\n",
              "  const steps = outputElement.steps;\n",
              "\n",
              "  const next = steps.next(outputElement.lastPromiseValue);\n",
              "  return Promise.resolve(next.value.promise).then((value) => {\n",
              "    // Cache the last promise value to make it available to the next\n",
              "    // step of the generator.\n",
              "    outputElement.lastPromiseValue = value;\n",
              "    return next.value.response;\n",
              "  });\n",
              "}\n",
              "\n",
              "/**\n",
              " * Generator function which is called between each async step of the upload\n",
              " * process.\n",
              " * @param {string} inputId Element ID of the input file picker element.\n",
              " * @param {string} outputId Element ID of the output display.\n",
              " * @return {!Iterable<!Object>} Iterable of next steps.\n",
              " */\n",
              "function* uploadFilesStep(inputId, outputId) {\n",
              "  const inputElement = document.getElementById(inputId);\n",
              "  inputElement.disabled = false;\n",
              "\n",
              "  const outputElement = document.getElementById(outputId);\n",
              "  outputElement.innerHTML = '';\n",
              "\n",
              "  const pickedPromise = new Promise((resolve) => {\n",
              "    inputElement.addEventListener('change', (e) => {\n",
              "      resolve(e.target.files);\n",
              "    });\n",
              "  });\n",
              "\n",
              "  const cancel = document.createElement('button');\n",
              "  inputElement.parentElement.appendChild(cancel);\n",
              "  cancel.textContent = 'Cancel upload';\n",
              "  const cancelPromise = new Promise((resolve) => {\n",
              "    cancel.onclick = () => {\n",
              "      resolve(null);\n",
              "    };\n",
              "  });\n",
              "\n",
              "  // Wait for the user to pick the files.\n",
              "  const files = yield {\n",
              "    promise: Promise.race([pickedPromise, cancelPromise]),\n",
              "    response: {\n",
              "      action: 'starting',\n",
              "    }\n",
              "  };\n",
              "\n",
              "  cancel.remove();\n",
              "\n",
              "  // Disable the input element since further picks are not allowed.\n",
              "  inputElement.disabled = true;\n",
              "\n",
              "  if (!files) {\n",
              "    return {\n",
              "      response: {\n",
              "        action: 'complete',\n",
              "      }\n",
              "    };\n",
              "  }\n",
              "\n",
              "  for (const file of files) {\n",
              "    const li = document.createElement('li');\n",
              "    li.append(span(file.name, {fontWeight: 'bold'}));\n",
              "    li.append(span(\n",
              "        `(${file.type || 'n/a'}) - ${file.size} bytes, ` +\n",
              "        `last modified: ${\n",
              "            file.lastModifiedDate ? file.lastModifiedDate.toLocaleDateString() :\n",
              "                                    'n/a'} - `));\n",
              "    const percent = span('0% done');\n",
              "    li.appendChild(percent);\n",
              "\n",
              "    outputElement.appendChild(li);\n",
              "\n",
              "    const fileDataPromise = new Promise((resolve) => {\n",
              "      const reader = new FileReader();\n",
              "      reader.onload = (e) => {\n",
              "        resolve(e.target.result);\n",
              "      };\n",
              "      reader.readAsArrayBuffer(file);\n",
              "    });\n",
              "    // Wait for the data to be ready.\n",
              "    let fileData = yield {\n",
              "      promise: fileDataPromise,\n",
              "      response: {\n",
              "        action: 'continue',\n",
              "      }\n",
              "    };\n",
              "\n",
              "    // Use a chunked sending to avoid message size limits. See b/62115660.\n",
              "    let position = 0;\n",
              "    do {\n",
              "      const length = Math.min(fileData.byteLength - position, MAX_PAYLOAD_SIZE);\n",
              "      const chunk = new Uint8Array(fileData, position, length);\n",
              "      position += length;\n",
              "\n",
              "      const base64 = btoa(String.fromCharCode.apply(null, chunk));\n",
              "      yield {\n",
              "        response: {\n",
              "          action: 'append',\n",
              "          file: file.name,\n",
              "          data: base64,\n",
              "        },\n",
              "      };\n",
              "\n",
              "      let percentDone = fileData.byteLength === 0 ?\n",
              "          100 :\n",
              "          Math.round((position / fileData.byteLength) * 100);\n",
              "      percent.textContent = `${percentDone}% done`;\n",
              "\n",
              "    } while (position < fileData.byteLength);\n",
              "  }\n",
              "\n",
              "  // All done.\n",
              "  yield {\n",
              "    response: {\n",
              "      action: 'complete',\n",
              "    }\n",
              "  };\n",
              "}\n",
              "\n",
              "scope.google = scope.google || {};\n",
              "scope.google.colab = scope.google.colab || {};\n",
              "scope.google.colab._files = {\n",
              "  _uploadFiles,\n",
              "  _uploadFilesContinue,\n",
              "};\n",
              "})(self);\n",
              "</script> "
            ]
          },
          "metadata": {}
        },
        {
          "output_type": "stream",
          "name": "stdout",
          "text": [
            "Saving UCI HAR Dataset.zip to UCI HAR Dataset (1).zip\n"
          ]
        }
      ],
      "source": [
        "uploaded = files.upload()\n"
      ]
    },
    {
      "cell_type": "markdown",
      "metadata": {
        "id": "XJ1IhAZS1DDn"
      },
      "source": [
        "EXTRACTING THE CONTENTS"
      ]
    },
    {
      "cell_type": "code",
      "execution_count": 14,
      "metadata": {
        "colab": {
          "base_uri": "https://localhost:8080/"
        },
        "id": "u0qBKV-x1BBc",
        "outputId": "ed940242-183b-4e55-f40c-cf8dedf3dd2a"
      },
      "outputs": [
        {
          "output_type": "stream",
          "name": "stdout",
          "text": [
            "Extracting UCI HAR Dataset (1).zip...\n",
            "Extraction of UCI HAR Dataset (1).zip completed\n"
          ]
        }
      ],
      "source": [
        "for filename in uploaded.keys():\n",
        "    if filename.endswith('.zip'):\n",
        "        print(f\"Extracting {filename}...\")\n",
        "        with zipfile.ZipFile(io.BytesIO(uploaded[filename]), 'r') as zip_ref:\n",
        "            zip_ref.extractall()\n",
        "        print(f\"Extraction of {filename} completed\")\n"
      ]
    },
    {
      "cell_type": "code",
      "execution_count": 15,
      "metadata": {
        "colab": {
          "base_uri": "https://localhost:8080/",
          "height": 1000
        },
        "id": "P1WuFxXiNq-4",
        "outputId": "182a463e-9fdf-4d1b-9310-7210f34150c1"
      },
      "outputs": [
        {
          "output_type": "stream",
          "name": "stdout",
          "text": [
            "Loading raw sensor data...\n",
            "Train data shape: (7352, 128, 9)\n",
            "Test data shape : (2947, 128, 9)\n",
            "\n",
            "Model Summary:\n"
          ]
        },
        {
          "output_type": "stream",
          "name": "stderr",
          "text": [
            "/usr/local/lib/python3.11/dist-packages/keras/src/layers/rnn/rnn.py:200: UserWarning: Do not pass an `input_shape`/`input_dim` argument to a layer. When using Sequential models, prefer using an `Input(shape)` object as the first layer in the model instead.\n",
            "  super().__init__(**kwargs)\n"
          ]
        },
        {
          "output_type": "display_data",
          "data": {
            "text/plain": [
              "\u001b[1mModel: \"sequential_1\"\u001b[0m\n"
            ],
            "text/html": [
              "<pre style=\"white-space:pre;overflow-x:auto;line-height:normal;font-family:Menlo,'DejaVu Sans Mono',consolas,'Courier New',monospace\"><span style=\"font-weight: bold\">Model: \"sequential_1\"</span>\n",
              "</pre>\n"
            ]
          },
          "metadata": {}
        },
        {
          "output_type": "display_data",
          "data": {
            "text/plain": [
              "┏━━━━━━━━━━━━━━━━━━━━━━━━━━━━━━━━━━━━━━┳━━━━━━━━━━━━━━━━━━━━━━━━━━━━━┳━━━━━━━━━━━━━━━━━┓\n",
              "┃\u001b[1m \u001b[0m\u001b[1mLayer (type)                        \u001b[0m\u001b[1m \u001b[0m┃\u001b[1m \u001b[0m\u001b[1mOutput Shape               \u001b[0m\u001b[1m \u001b[0m┃\u001b[1m \u001b[0m\u001b[1m        Param #\u001b[0m\u001b[1m \u001b[0m┃\n",
              "┡━━━━━━━━━━━━━━━━━━━━━━━━━━━━━━━━━━━━━━╇━━━━━━━━━━━━━━━━━━━━━━━━━━━━━╇━━━━━━━━━━━━━━━━━┩\n",
              "│ lstm_2 (\u001b[38;5;33mLSTM\u001b[0m)                        │ (\u001b[38;5;45mNone\u001b[0m, \u001b[38;5;34m128\u001b[0m, \u001b[38;5;34m64\u001b[0m)             │          \u001b[38;5;34m18,944\u001b[0m │\n",
              "├──────────────────────────────────────┼─────────────────────────────┼─────────────────┤\n",
              "│ dropout_1 (\u001b[38;5;33mDropout\u001b[0m)                  │ (\u001b[38;5;45mNone\u001b[0m, \u001b[38;5;34m128\u001b[0m, \u001b[38;5;34m64\u001b[0m)             │               \u001b[38;5;34m0\u001b[0m │\n",
              "├──────────────────────────────────────┼─────────────────────────────┼─────────────────┤\n",
              "│ lstm_3 (\u001b[38;5;33mLSTM\u001b[0m)                        │ (\u001b[38;5;45mNone\u001b[0m, \u001b[38;5;34m32\u001b[0m)                  │          \u001b[38;5;34m12,416\u001b[0m │\n",
              "├──────────────────────────────────────┼─────────────────────────────┼─────────────────┤\n",
              "│ dense_1 (\u001b[38;5;33mDense\u001b[0m)                      │ (\u001b[38;5;45mNone\u001b[0m, \u001b[38;5;34m6\u001b[0m)                   │             \u001b[38;5;34m198\u001b[0m │\n",
              "└──────────────────────────────────────┴─────────────────────────────┴─────────────────┘\n"
            ],
            "text/html": [
              "<pre style=\"white-space:pre;overflow-x:auto;line-height:normal;font-family:Menlo,'DejaVu Sans Mono',consolas,'Courier New',monospace\">┏━━━━━━━━━━━━━━━━━━━━━━━━━━━━━━━━━━━━━━┳━━━━━━━━━━━━━━━━━━━━━━━━━━━━━┳━━━━━━━━━━━━━━━━━┓\n",
              "┃<span style=\"font-weight: bold\"> Layer (type)                         </span>┃<span style=\"font-weight: bold\"> Output Shape                </span>┃<span style=\"font-weight: bold\">         Param # </span>┃\n",
              "┡━━━━━━━━━━━━━━━━━━━━━━━━━━━━━━━━━━━━━━╇━━━━━━━━━━━━━━━━━━━━━━━━━━━━━╇━━━━━━━━━━━━━━━━━┩\n",
              "│ lstm_2 (<span style=\"color: #0087ff; text-decoration-color: #0087ff\">LSTM</span>)                        │ (<span style=\"color: #00d7ff; text-decoration-color: #00d7ff\">None</span>, <span style=\"color: #00af00; text-decoration-color: #00af00\">128</span>, <span style=\"color: #00af00; text-decoration-color: #00af00\">64</span>)             │          <span style=\"color: #00af00; text-decoration-color: #00af00\">18,944</span> │\n",
              "├──────────────────────────────────────┼─────────────────────────────┼─────────────────┤\n",
              "│ dropout_1 (<span style=\"color: #0087ff; text-decoration-color: #0087ff\">Dropout</span>)                  │ (<span style=\"color: #00d7ff; text-decoration-color: #00d7ff\">None</span>, <span style=\"color: #00af00; text-decoration-color: #00af00\">128</span>, <span style=\"color: #00af00; text-decoration-color: #00af00\">64</span>)             │               <span style=\"color: #00af00; text-decoration-color: #00af00\">0</span> │\n",
              "├──────────────────────────────────────┼─────────────────────────────┼─────────────────┤\n",
              "│ lstm_3 (<span style=\"color: #0087ff; text-decoration-color: #0087ff\">LSTM</span>)                        │ (<span style=\"color: #00d7ff; text-decoration-color: #00d7ff\">None</span>, <span style=\"color: #00af00; text-decoration-color: #00af00\">32</span>)                  │          <span style=\"color: #00af00; text-decoration-color: #00af00\">12,416</span> │\n",
              "├──────────────────────────────────────┼─────────────────────────────┼─────────────────┤\n",
              "│ dense_1 (<span style=\"color: #0087ff; text-decoration-color: #0087ff\">Dense</span>)                      │ (<span style=\"color: #00d7ff; text-decoration-color: #00d7ff\">None</span>, <span style=\"color: #00af00; text-decoration-color: #00af00\">6</span>)                   │             <span style=\"color: #00af00; text-decoration-color: #00af00\">198</span> │\n",
              "└──────────────────────────────────────┴─────────────────────────────┴─────────────────┘\n",
              "</pre>\n"
            ]
          },
          "metadata": {}
        },
        {
          "output_type": "display_data",
          "data": {
            "text/plain": [
              "\u001b[1m Total params: \u001b[0m\u001b[38;5;34m31,558\u001b[0m (123.27 KB)\n"
            ],
            "text/html": [
              "<pre style=\"white-space:pre;overflow-x:auto;line-height:normal;font-family:Menlo,'DejaVu Sans Mono',consolas,'Courier New',monospace\"><span style=\"font-weight: bold\"> Total params: </span><span style=\"color: #00af00; text-decoration-color: #00af00\">31,558</span> (123.27 KB)\n",
              "</pre>\n"
            ]
          },
          "metadata": {}
        },
        {
          "output_type": "display_data",
          "data": {
            "text/plain": [
              "\u001b[1m Trainable params: \u001b[0m\u001b[38;5;34m31,558\u001b[0m (123.27 KB)\n"
            ],
            "text/html": [
              "<pre style=\"white-space:pre;overflow-x:auto;line-height:normal;font-family:Menlo,'DejaVu Sans Mono',consolas,'Courier New',monospace\"><span style=\"font-weight: bold\"> Trainable params: </span><span style=\"color: #00af00; text-decoration-color: #00af00\">31,558</span> (123.27 KB)\n",
              "</pre>\n"
            ]
          },
          "metadata": {}
        },
        {
          "output_type": "display_data",
          "data": {
            "text/plain": [
              "\u001b[1m Non-trainable params: \u001b[0m\u001b[38;5;34m0\u001b[0m (0.00 B)\n"
            ],
            "text/html": [
              "<pre style=\"white-space:pre;overflow-x:auto;line-height:normal;font-family:Menlo,'DejaVu Sans Mono',consolas,'Courier New',monospace\"><span style=\"font-weight: bold\"> Non-trainable params: </span><span style=\"color: #00af00; text-decoration-color: #00af00\">0</span> (0.00 B)\n",
              "</pre>\n"
            ]
          },
          "metadata": {}
        },
        {
          "output_type": "stream",
          "name": "stdout",
          "text": [
            "\n",
            "Training the LSTM model...\n",
            "Epoch 1/50\n",
            "Epoch 2/50\n",
            "Epoch 3/50\n",
            "Epoch 4/50\n",
            "Epoch 5/50\n",
            "Epoch 6/50\n",
            "Epoch 7/50\n",
            "Epoch 8/50\n",
            "Epoch 9/50\n",
            "Epoch 10/50\n",
            "Epoch 11/50\n",
            "Epoch 12/50\n",
            "Epoch 13/50\n",
            "Epoch 14/50\n",
            "Epoch 15/50\n",
            "Epoch 16/50\n",
            "Epoch 17/50\n",
            "Epoch 18/50\n",
            "Epoch 19/50\n",
            "Epoch 20/50\n",
            "Epoch 21/50\n",
            "Epoch 22/50\n",
            "Epoch 23/50\n",
            "Epoch 24/50\n",
            "Epoch 25/50\n",
            "Epoch 26/50\n",
            "Epoch 27/50\n",
            "Epoch 28/50\n",
            "Epoch 29/50\n",
            "Epoch 30/50\n",
            "Epoch 31/50\n",
            "Epoch 32/50\n",
            "Epoch 33/50\n",
            "Epoch 34/50\n",
            "Epoch 35/50\n",
            "Epoch 36/50\n",
            "Epoch 37/50\n",
            "Epoch 38/50\n",
            "Epoch 39/50\n",
            "Epoch 40/50\n",
            "Epoch 41/50\n",
            "Epoch 42/50\n",
            "Epoch 43/50\n",
            "Epoch 44/50\n",
            "Epoch 45/50\n",
            "Epoch 46/50\n",
            "Epoch 47/50\n",
            "Epoch 48/50\n",
            "Epoch 49/50\n",
            "Epoch 50/50\n",
            "\n",
            "Test Accuracy on raw sensor data (LSTM): 0.9019\n"
          ]
        }
      ],
      "source": [
        "def load_signals(folder):\n",
        "  #READS THE NINE TYPE OF INERTIAL SIGNALS AND ADDS THEM INTO THE ARRAY\n",
        "    signal_types = [\n",
        "        \"body_acc_x\", \"body_acc_y\", \"body_acc_z\",\n",
        "        \"body_gyro_x\", \"body_gyro_y\", \"body_gyro_z\",\n",
        "        \"total_acc_x\", \"total_acc_y\", \"total_acc_z\"\n",
        "    ]\n",
        "    signals = []\n",
        "    for signal in signal_types:\n",
        "        file_path = os.path.join(folder, \"Inertial Signals\", f\"{signal}_{os.path.basename(folder)}.txt\")\n",
        "        data = np.loadtxt(file_path)\n",
        "        signals.append(data)\n",
        "    return np.transpose(np.array(signals), (1, 2, 0))\n",
        "\n",
        "def load_labels(folder):\n",
        "    label_file = os.path.join(folder, f\"y_{os.path.basename(folder)}.txt\")\n",
        "    labels = np.loadtxt(label_file).astype(int)\n",
        "    return labels\n",
        "\n",
        "train_folder = os.path.join(\"UCI HAR Dataset\", \"train\")\n",
        "test_folder  = os.path.join(\"UCI HAR Dataset\", \"test\")\n",
        "\n",
        "print(\"Loading raw sensor data...\")\n",
        "X_train_raw = load_signals(train_folder)\n",
        "X_test_raw  = load_signals(test_folder)\n",
        "y_train = load_labels(train_folder)\n",
        "y_test  = load_labels(test_folder)\n",
        "print(\"Train data shape:\", X_train_raw.shape)\n",
        "print(\"Test data shape :\", X_test_raw.shape)\n",
        "\n",
        "n_train, time_steps, n_channels = X_train_raw.shape\n",
        "X_train_flat = X_train_raw.reshape(-1, n_channels)\n",
        "X_test_flat  = X_test_raw.reshape(-1, n_channels)\n",
        "\n",
        "scaler = StandardScaler() #STANDARDIZATION OF THE DATA\n",
        "scaler.fit(X_train_flat)\n",
        "X_train_scaled_flat = scaler.transform(X_train_flat)\n",
        "X_test_scaled_flat  = scaler.transform(X_test_flat)\n",
        "\n",
        "X_train_scaled = X_train_scaled_flat.reshape(n_train, time_steps, n_channels)\n",
        "X_test_scaled  = X_test_scaled_flat.reshape(X_test_raw.shape[0], time_steps, n_channels)\n",
        "\n",
        "n_classes = len(np.unique(y_train))\n",
        "#ONE HOT ENCODING OF THE DATA\n",
        "y_train_onehot = tf.keras.utils.to_categorical(y_train - 1, num_classes=n_classes)\n",
        "y_test_onehot  = tf.keras.utils.to_categorical(y_test - 1, num_classes=n_classes)\n",
        "\n",
        "#MODEL DEFINING\n",
        "model = Sequential([\n",
        "    LSTM(64, input_shape=(time_steps, n_channels), return_sequences=True),\n",
        "    Dropout(0.5),\n",
        "    LSTM(32),\n",
        "    Dense(n_classes, activation='softmax')\n",
        "])\n",
        "\n",
        "model.compile(optimizer='adam', loss='categorical_crossentropy', metrics=['accuracy'])\n",
        "print(\"\\nModel Summary:\")\n",
        "model.summary()\n",
        "\n",
        "print(\"\\nTraining the LSTM model...\")\n",
        "history = model.fit(X_train_scaled, y_train_onehot, epochs=50, batch_size=64, validation_split=0.2, verbose=3)\n",
        "\n",
        "loss, accuracy = model.evaluate(X_test_scaled, y_test_onehot, verbose=0)\n",
        "print(\"\\nTest Accuracy on raw sensor data (LSTM): {:.4f}\".format(accuracy))\n",
        "\n",
        "#WE CAN ALSO TUNE THE HYPERPARAMETERS IF WE USE K FOLD CROSS VALIDATION TO MAKE THE MODEL MORE ROBUST AND MAKE IT GENERALISE WELL"
      ]
    },
    {
      "cell_type": "code",
      "execution_count": 17,
      "metadata": {
        "colab": {
          "base_uri": "https://localhost:8080/"
        },
        "id": "cE0CKNjRQNMT",
        "outputId": "f79fe023-47a9-43c7-fc94-55d6ca6d3e32"
      },
      "outputs": [
        {
          "output_type": "stream",
          "name": "stdout",
          "text": [
            "Extracting TSFEL features from training data\n",
            "Training TSFEL features shape: (7352, 1404)\n",
            "Extracting TSFEL features from test data\n",
            "Test TSFEL features shape: (2947, 1404)\n",
            "Random Forest TSFEL Accuracy: 0.9290804207668816\n",
            "              precision    recall  f1-score   support\n",
            "\n",
            "           0       0.93      0.98      0.95       496\n",
            "           1       0.91      0.96      0.93       471\n",
            "           2       0.95      0.83      0.88       420\n",
            "           3       0.89      0.89      0.89       491\n",
            "           4       0.90      0.90      0.90       532\n",
            "           5       1.00      1.00      1.00       537\n",
            "\n",
            "    accuracy                           0.93      2947\n",
            "   macro avg       0.93      0.93      0.93      2947\n",
            "weighted avg       0.93      0.93      0.93      2947\n",
            "\n",
            "SVM TSFEL Accuracy: 0.9548693586698337\n",
            "              precision    recall  f1-score   support\n",
            "\n",
            "           0       0.95      0.98      0.96       496\n",
            "           1       0.98      0.96      0.97       471\n",
            "           2       0.96      0.96      0.96       420\n",
            "           3       0.94      0.89      0.91       491\n",
            "           4       0.90      0.94      0.92       532\n",
            "           5       1.00      1.00      1.00       537\n",
            "\n",
            "    accuracy                           0.95      2947\n",
            "   macro avg       0.96      0.95      0.95      2947\n",
            "weighted avg       0.96      0.95      0.95      2947\n",
            "\n",
            "Logistic Regression TSFEL Accuracy: 0.9562266711910418\n",
            "              precision    recall  f1-score   support\n",
            "\n",
            "           0       0.95      1.00      0.97       496\n",
            "           1       0.99      0.95      0.97       471\n",
            "           2       0.99      0.97      0.98       420\n",
            "           3       0.94      0.87      0.90       491\n",
            "           4       0.90      0.95      0.93       532\n",
            "           5       0.98      1.00      0.99       537\n",
            "\n",
            "    accuracy                           0.96      2947\n",
            "   macro avg       0.96      0.96      0.96      2947\n",
            "weighted avg       0.96      0.96      0.96      2947\n",
            "\n"
          ]
        }
      ],
      "source": [
        "cfg = tsfel.get_features_by_domain()\n",
        "\n",
        "def extract_tsfel_features(sample, cfg):\n",
        "    features_list = []\n",
        "    for ch in range(sample.shape[1]):\n",
        "        channel_data = sample[:, ch]\n",
        "        df_channel = pad.DataFrame({f'channel_{ch}': channel_data})\n",
        "        feat = tsfel.time_series_features_extractor(cfg, df_channel, fs=50, verbose=0)\n",
        "        features_list.append(feat)\n",
        "    features_concat = pad.concat(features_list, axis=1)\n",
        "    return features_concat\n",
        "\n",
        "print(\"Extracting TSFEL features from training data\")\n",
        "features_train_list = []\n",
        "for idx in range(X_train_raw.shape[0]):\n",
        "    feats = extract_tsfel_features(X_train_raw[idx], cfg)\n",
        "    features_train_list.append(feats)\n",
        "X_train_tsfel = pad.concat(features_train_list, ignore_index=True)\n",
        "print(\"Training TSFEL features shape:\", X_train_tsfel.shape)\n",
        "\n",
        "print(\"Extracting TSFEL features from test data\")\n",
        "features_test_list = []\n",
        "for idx in range(X_test_raw.shape[0]):\n",
        "    feats = extract_tsfel_features(X_test_raw[idx], cfg)\n",
        "    features_test_list.append(feats)\n",
        "X_test_tsfel = pad.concat(features_test_list, ignore_index=True)\n",
        "print(\"Test TSFEL features shape:\", X_test_tsfel.shape)\n",
        "\n",
        "X_train_tsfel.fillna(0, inplace=True)\n",
        "X_test_tsfel.fillna(0, inplace=True)\n",
        "\n",
        "scaler_tsfel = StandardScaler()\n",
        "X_train_tsfel_scaled = scaler_tsfel.fit_transform(X_train_tsfel)\n",
        "X_test_tsfel_scaled = scaler_tsfel.transform(X_test_tsfel)\n",
        "\n",
        "y_train_ml = y_train - 1\n",
        "y_test_ml = y_test - 1\n",
        "\n",
        "#NOW WE WILL EVALUATE THE MODELS ON THE FEATURES GENERATED BY USING TSFEL\n",
        "#RANDOM FOREST\n",
        "rf = RandomForestClassifier(n_estimators=100, random_state=42)\n",
        "rf.fit(X_train_tsfel_scaled, y_train_ml)\n",
        "rf_preds = rf.predict(X_test_tsfel_scaled)\n",
        "print(\"Random Forest TSFEL Accuracy:\", accuracy_score(y_test_ml, rf_preds))\n",
        "print(classification_report(y_test_ml, rf_preds))\n",
        "\n",
        "#SUPPORT VECTOR MACHINE\n",
        "svm = SVC(kernel='rbf', gamma='scale', random_state=42)\n",
        "svm.fit(X_train_tsfel_scaled, y_train_ml)\n",
        "svm_preds = svm.predict(X_test_tsfel_scaled)\n",
        "print(\"SVM TSFEL Accuracy:\", accuracy_score(y_test_ml, svm_preds))\n",
        "print(classification_report(y_test_ml, svm_preds))\n",
        "\n",
        "#LOGISTIC REGRESSION\n",
        "lr = LogisticRegression(max_iter=200, random_state=42)\n",
        "lr.fit(X_train_tsfel_scaled, y_train_ml)\n",
        "lr_preds = lr.predict(X_test_tsfel_scaled)\n",
        "print(\"Logistic Regression TSFEL Accuracy:\", accuracy_score(y_test_ml, lr_preds))\n",
        "print(classification_report(y_test_ml, lr_preds))\n"
      ]
    },
    {
      "cell_type": "markdown",
      "source": [
        "THE PREDICTION SCORES OF THE FEATURES PROVIDED BY THE AUTHORS"
      ],
      "metadata": {
        "id": "tvWco-t5lMgZ"
      }
    },
    {
      "cell_type": "code",
      "source": [
        "train_features = np.loadtxt(os.path.join(train_folder, \"X_train.txt\"))\n",
        "test_features = np.loadtxt(os.path.join(test_folder, \"X_test.txt\"))\n",
        "\n",
        "scaler_prov = StandardScaler()\n",
        "X_train_prov_scaled = scaler_prov.fit_transform(train_features)\n",
        "X_test_prov_scaled = scaler_prov.transform(test_features)\n",
        "\n",
        "y_train_ml = y_train - 1\n",
        "y_test_ml = y_test - 1\n",
        "#NOW WE WILL EVALUATE THE MODELS ON THE FEATURES PROVIDED BY THE AUTHORS\n",
        "#RANDOM FOREST\n",
        "rf_prov = RandomForestClassifier(n_estimators=100, random_state=42)\n",
        "rf_prov.fit(X_train_prov_scaled, y_train_ml)\n",
        "rf_prov_preds = rf_prov.predict(X_test_prov_scaled)\n",
        "print(\"Random Forest (Provided Features) Accuracy:\", accuracy_score(y_test_ml, rf_prov_preds))\n",
        "print(classification_report(y_test_ml, rf_prov_preds))\n",
        "\n",
        "#SUPPORT VECTOR MACHINE EVALUATION\n",
        "svm_prov = SVC(kernel='rbf', gamma='scale', random_state=42)\n",
        "svm_prov.fit(X_train_prov_scaled, y_train_ml)\n",
        "svm_prov_preds = svm_prov.predict(X_test_prov_scaled)\n",
        "print(\"SVM (Provided Features) Accuracy:\", accuracy_score(y_test_ml, svm_prov_preds))\n",
        "print(classification_report(y_test_ml, svm_prov_preds))\n",
        "\n",
        "#LOGISTIC REGRESSION EVALAUATION\n",
        "lr_prov = LogisticRegression(max_iter=200, random_state=42)\n",
        "lr_prov.fit(X_train_prov_scaled, y_train_ml)\n",
        "lr_prov_preds = lr_prov.predict(X_test_prov_scaled)\n",
        "print(\"Logistic Regression (Provided Features) Accuracy:\", accuracy_score(y_test_ml, lr_prov_preds))\n",
        "print(classification_report(y_test_ml, lr_prov_preds))\n"
      ],
      "metadata": {
        "colab": {
          "base_uri": "https://localhost:8080/"
        },
        "id": "LEWpgwjD0Bii",
        "outputId": "9ca71399-638e-4000-d277-2d55b2fd0668"
      },
      "execution_count": 18,
      "outputs": [
        {
          "output_type": "stream",
          "name": "stdout",
          "text": [
            "Random Forest (Provided Features) Accuracy: 0.9260264675941635\n",
            "              precision    recall  f1-score   support\n",
            "\n",
            "           0       0.89      0.96      0.92       496\n",
            "           1       0.89      0.90      0.90       471\n",
            "           2       0.97      0.86      0.91       420\n",
            "           3       0.91      0.89      0.90       491\n",
            "           4       0.90      0.92      0.91       532\n",
            "           5       1.00      1.00      1.00       537\n",
            "\n",
            "    accuracy                           0.93      2947\n",
            "   macro avg       0.93      0.92      0.92      2947\n",
            "weighted avg       0.93      0.93      0.93      2947\n",
            "\n",
            "SVM (Provided Features) Accuracy: 0.9521547336274178\n",
            "              precision    recall  f1-score   support\n",
            "\n",
            "           0       0.96      0.97      0.97       496\n",
            "           1       0.93      0.97      0.95       471\n",
            "           2       0.98      0.92      0.95       420\n",
            "           3       0.94      0.90      0.92       491\n",
            "           4       0.92      0.95      0.93       532\n",
            "           5       1.00      1.00      1.00       537\n",
            "\n",
            "    accuracy                           0.95      2947\n",
            "   macro avg       0.95      0.95      0.95      2947\n",
            "weighted avg       0.95      0.95      0.95      2947\n",
            "\n",
            "Logistic Regression (Provided Features) Accuracy: 0.9552086868001357\n",
            "              precision    recall  f1-score   support\n",
            "\n",
            "           0       0.94      0.99      0.97       496\n",
            "           1       0.96      0.95      0.95       471\n",
            "           2       0.99      0.94      0.96       420\n",
            "           3       0.97      0.88      0.92       491\n",
            "           4       0.89      0.97      0.93       532\n",
            "           5       1.00      0.99      1.00       537\n",
            "\n",
            "    accuracy                           0.96      2947\n",
            "   macro avg       0.96      0.95      0.96      2947\n",
            "weighted avg       0.96      0.96      0.96      2947\n",
            "\n"
          ]
        }
      ]
    }
  ],
  "metadata": {
    "accelerator": "GPU",
    "colab": {
      "gpuType": "T4",
      "machine_shape": "hm",
      "provenance": []
    },
    "kernelspec": {
      "display_name": "Python 3",
      "name": "python3"
    },
    "language_info": {
      "name": "python"
    }
  },
  "nbformat": 4,
  "nbformat_minor": 0
}